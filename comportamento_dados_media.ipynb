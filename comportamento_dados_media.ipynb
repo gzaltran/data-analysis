{
 "cells": [
  {
   "cell_type": "code",
   "execution_count": 2,
   "metadata": {},
   "outputs": [],
   "source": [
    "import pandas as pd\n",
    "import numpy as np\n",
    "import seaborn as sns\n",
    "import plotly.express as px"
   ]
  },
  {
   "cell_type": "code",
   "execution_count": 3,
   "metadata": {},
   "outputs": [],
   "source": [
    "notas = {'aluno 1':[8,8,4,4],\n",
    "         'aluno 2':[4.5,5.5,6.5,7.5],\n",
    "         'aluno 3':[8,7,5,4]}\n",
    "periodo = ['b1','b2','b3','b4']\n",
    "df_notas = pd.DataFrame(notas, index=periodo)"
   ]
  },
  {
   "cell_type": "markdown",
   "metadata": {},
   "source": [
    "# A ilusão da média "
   ]
  },
  {
   "cell_type": "markdown",
   "metadata": {},
   "source": [
    "Dentro do vocabulário estatístico, a média deve ser o termo mais \"pop\". Não tenho certeza, mas na minha época de escola devo ter sido apresentado a ela antes de aprender a fazer seu cálculo ou entender plenamente o seu conceito (o que admito, veio bem depois).\n",
    "O fato era que para passar de ano, voce tinha que alcançar uma média 6 e quando íamos perguntar a professora, eramos informado que deveriamos nos preocupar em conseguir uma nota igual ou maior a em todos os bimestres. Ou seja, tinhamos ganhado de brinde uma aula sobre lógica:\n",
    "<pre>\n",
    "<br>Se nota >= 6: \n",
    "<br>    Eu: 😄\n",
    "<br>Senão:\n",
    "<br>    Eu: \"mãe, assina meu boletim?\"\n",
    "<br>    Mãe: \"Por que?\"\n",
    "<br>    Eu: 😢\n",
    "</pre>\n",
    "\n",
    "Mas aí os anos vão passando e você descobre que a média se calcula somando todos os valores e depois dividindo pela quantidade deles, e aí percebe que dá para bolar algumas estratégias para passar de ano que não envolvem necessariamente tirar 6 ou mais todo bimestre.\n",
    "Aí você, o <b>aluno 1</b>, pensa no seguinte:\n",
    "* Já que são 4 bimestres, 4 é o numero pelo qual eu divido a soma das minhas notas;\n",
    "* Em geral, os dois primeiros bimestres são os mais fáceis, então em teoria, é mais simples tirar um 8 agora que no fim do ano;\n",
    "* Somando 16, vão faltar 8 pontos para dividir nos dois ultimos bimestres, que são mais dificeis, pois eu preciso somar 24 para ter uma média 6.\n",
    "\n",
    "Outro colega, o <b>aluno 2</b> ja pensa em uma estratégia diferente:\n",
    "* No fim do ano, os professores ja cansados vao aliviando a barra, dando trabalhos para complementar a nota, então eu vou me esforçar só depois das férias de junho.\n",
    "\n",
    "E um terceiro, o <b>aluno 3</b>, seu amigo de longa data, é seu cúmplice na estratégia 1. Mas acaba sendo bem sucedido de uma forma um pouco diferente da sua, e as notas de vocês três acabam sendo as seguintes:"
   ]
  },
  {
   "cell_type": "code",
   "execution_count": 4,
   "metadata": {},
   "outputs": [
    {
     "data": {
      "text/html": [
       "<div>\n",
       "<style scoped>\n",
       "    .dataframe tbody tr th:only-of-type {\n",
       "        vertical-align: middle;\n",
       "    }\n",
       "\n",
       "    .dataframe tbody tr th {\n",
       "        vertical-align: top;\n",
       "    }\n",
       "\n",
       "    .dataframe thead th {\n",
       "        text-align: right;\n",
       "    }\n",
       "</style>\n",
       "<table border=\"1\" class=\"dataframe\">\n",
       "  <thead>\n",
       "    <tr style=\"text-align: right;\">\n",
       "      <th></th>\n",
       "      <th>aluno 1</th>\n",
       "      <th>aluno 2</th>\n",
       "      <th>aluno 3</th>\n",
       "    </tr>\n",
       "  </thead>\n",
       "  <tbody>\n",
       "    <tr>\n",
       "      <th>b1</th>\n",
       "      <td>8</td>\n",
       "      <td>4.5</td>\n",
       "      <td>8</td>\n",
       "    </tr>\n",
       "    <tr>\n",
       "      <th>b2</th>\n",
       "      <td>8</td>\n",
       "      <td>5.5</td>\n",
       "      <td>7</td>\n",
       "    </tr>\n",
       "    <tr>\n",
       "      <th>b3</th>\n",
       "      <td>4</td>\n",
       "      <td>6.5</td>\n",
       "      <td>5</td>\n",
       "    </tr>\n",
       "    <tr>\n",
       "      <th>b4</th>\n",
       "      <td>4</td>\n",
       "      <td>7.5</td>\n",
       "      <td>4</td>\n",
       "    </tr>\n",
       "  </tbody>\n",
       "</table>\n",
       "</div>"
      ],
      "text/plain": [
       "    aluno 1  aluno 2  aluno 3\n",
       "b1        8      4.5        8\n",
       "b2        8      5.5        7\n",
       "b3        4      6.5        5\n",
       "b4        4      7.5        4"
      ]
     },
     "execution_count": 4,
     "metadata": {},
     "output_type": "execute_result"
    }
   ],
   "source": [
    "df_notas"
   ]
  },
  {
   "cell_type": "markdown",
   "metadata": {},
   "source": [
    "E as médias foram as seguintes:"
   ]
  },
  {
   "cell_type": "code",
   "execution_count": 12,
   "metadata": {},
   "outputs": [
    {
     "name": "stdout",
     "output_type": "stream",
     "text": [
      "Média aluno 1:  6.0\n",
      "Média aluno 2:  6.0\n",
      "Média aluno 3:  6.0\n"
     ]
    }
   ],
   "source": [
    "print(f'Média aluno 1: ', df_notas['aluno 1'].mean())\n",
    "print(f'Média aluno 2: ', df_notas['aluno 2'].mean())\n",
    "print(f'Média aluno 3: ', df_notas['aluno 3'].mean())"
   ]
  },
  {
   "cell_type": "markdown",
   "metadata": {},
   "source": [
    "<b>Ótima notícia, todos aprovados!</b>\n",
    "\n",
    "Para efeitos de resultado as estratégias foram muito bem sucedidas, mas voce ja deve ter concluido que aprovar os alunos com base em média não garante um aprendizado uniforme ao longo do ano. \n",
    "\n",
    "<b>A discussão aqui não é sobre o nosso sistema educacional, mas sobre a forma como avaliamos as coisas! </b>\n",
    "\n",
    "Partindo desse pensamento, digamos que a nota seja suficiente para medir o desempenho dos alunos. O que elas nos dizem sobre cada um deles ao longo do ano?\n"
   ]
  },
  {
   "cell_type": "code",
   "execution_count": null,
   "metadata": {},
   "outputs": [],
   "source": []
  }
 ],
 "metadata": {
  "kernelspec": {
   "display_name": "Python 3",
   "language": "python",
   "name": "python3"
  },
  "language_info": {
   "codemirror_mode": {
    "name": "ipython",
    "version": 3
   },
   "file_extension": ".py",
   "mimetype": "text/x-python",
   "name": "python",
   "nbconvert_exporter": "python",
   "pygments_lexer": "ipython3",
   "version": "3.8.10"
  }
 },
 "nbformat": 4,
 "nbformat_minor": 2
}
