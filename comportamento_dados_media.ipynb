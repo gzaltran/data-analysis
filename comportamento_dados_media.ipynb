{
 "cells": [
  {
   "cell_type": "markdown",
   "metadata": {},
   "source": [
    "# A mágica da média "
   ]
  },
  {
   "cell_type": "markdown",
   "metadata": {},
   "source": [
    "Dentro do vocabulário estatístico, a média deve ser o termo mais \"pop\". Não tenho certeza, mas na minha época de escola devo ter sido apresentado a ela antes de aprender a fazer seu cálculo ou entender plenamente o seu conceito (o que admito, veio bem depois).\n",
    "O fato era que para passar de ano, voce tinha que alcançar uma média 6 e quando íamos perguntar a professora, eramos informado que deveriamos nos preocupar em conseguir uma nota igual ou maior a em todos os bimestres. Ou seja, tinhamos ganhado de brinde uma aula sobre lógica:\n",
    "<pre>\n",
    "<br>Se nota >= 6: \n",
    "<br>    :smiley: \n",
    "<br>Senão:\n",
    "<br>    Eu: \"mãe, assina meu boletim?\"\n",
    "<br>    Mãe: \"Por que?\"\n",
    "<br>    Eu: :cry:\n",
    "</pre>"
   ]
  },
  {
   "cell_type": "code",
   "execution_count": 30,
   "metadata": {},
   "outputs": [],
   "source": [
    "import pandas as pd\n",
    "import numpy as np\n",
    "from collections import Counter\n",
    "import seaborn as sns\n",
    "import plotly.express as px"
   ]
  },
  {
   "cell_type": "code",
   "execution_count": 6,
   "metadata": {},
   "outputs": [],
   "source": [
    "df = pd.read_csv('C:/Users/gzalt/OneDrive/PYTHON ML/DATAFRAMES/brasileirao.csv', sep=';')"
   ]
  },
  {
   "cell_type": "code",
   "execution_count": 27,
   "metadata": {},
   "outputs": [
    {
     "data": {
      "text/plain": [
       "Index(['ano_campeonato', 'data', 'rodada', 'estadio', 'arbitro', 'publico',\n",
       "       'publico_max', 'time_mandante', 'time_visitante', 'tecnico_mandante',\n",
       "       'tecnico_visitante', 'colocacao_mandante', 'colocacao_visitante',\n",
       "       'valor_equipe_titular_mandante', 'valor_equipe_titular_visitante',\n",
       "       'idade_media_titular_mandante', 'idade_media_titular_visitante',\n",
       "       'gols_mandante', 'gols_visitante', 'gols_1_tempo_mandante',\n",
       "       'gols_1_tempo_visitante', 'escanteios_mandante', 'escanteios_visitante',\n",
       "       'faltas_mandante', 'faltas_visitante', 'chutes_bola_parada_mandante',\n",
       "       'chutes_bola_parada_visitante', 'defesas_mandante', 'defesas_visitante',\n",
       "       'impedimentos_mandante', 'impedimentos_visitante', 'chutes_mandante',\n",
       "       'chutes_visitante', 'chutes_fora_mandante', 'chutes_fora_visitante'],\n",
       "      dtype='object')"
      ]
     },
     "execution_count": 27,
     "metadata": {},
     "output_type": "execute_result"
    }
   ],
   "source": [
    "df.columns"
   ]
  },
  {
   "cell_type": "code",
   "execution_count": 47,
   "metadata": {},
   "outputs": [
    {
     "data": {
      "text/html": [
       "<div>\n",
       "<style scoped>\n",
       "    .dataframe tbody tr th:only-of-type {\n",
       "        vertical-align: middle;\n",
       "    }\n",
       "\n",
       "    .dataframe tbody tr th {\n",
       "        vertical-align: top;\n",
       "    }\n",
       "\n",
       "    .dataframe thead th {\n",
       "        text-align: right;\n",
       "    }\n",
       "</style>\n",
       "<table border=\"1\" class=\"dataframe\">\n",
       "  <thead>\n",
       "    <tr style=\"text-align: right;\">\n",
       "      <th></th>\n",
       "      <th>data</th>\n",
       "      <th>publico</th>\n",
       "    </tr>\n",
       "  </thead>\n",
       "  <tbody>\n",
       "    <tr>\n",
       "      <th>0</th>\n",
       "      <td>01/06/2006</td>\n",
       "      <td>NaN</td>\n",
       "    </tr>\n",
       "    <tr>\n",
       "      <th>1</th>\n",
       "      <td>01/06/2014</td>\n",
       "      <td>15136.0</td>\n",
       "    </tr>\n",
       "    <tr>\n",
       "      <th>2</th>\n",
       "      <td>01/07/2012</td>\n",
       "      <td>34550.0</td>\n",
       "    </tr>\n",
       "    <tr>\n",
       "      <th>3</th>\n",
       "      <td>01/09/2010</td>\n",
       "      <td>26419.0</td>\n",
       "    </tr>\n",
       "    <tr>\n",
       "      <th>4</th>\n",
       "      <td>01/09/2018</td>\n",
       "      <td>16589.0</td>\n",
       "    </tr>\n",
       "    <tr>\n",
       "      <th>...</th>\n",
       "      <td>...</td>\n",
       "      <td>...</td>\n",
       "    </tr>\n",
       "    <tr>\n",
       "      <th>351</th>\n",
       "      <td>31/07/2017</td>\n",
       "      <td>32251.0</td>\n",
       "    </tr>\n",
       "    <tr>\n",
       "      <th>352</th>\n",
       "      <td>31/08/2008</td>\n",
       "      <td>0.0</td>\n",
       "    </tr>\n",
       "    <tr>\n",
       "      <th>353</th>\n",
       "      <td>31/08/2013</td>\n",
       "      <td>23745.0</td>\n",
       "    </tr>\n",
       "    <tr>\n",
       "      <th>354</th>\n",
       "      <td>31/08/2014</td>\n",
       "      <td>12607.0</td>\n",
       "    </tr>\n",
       "    <tr>\n",
       "      <th>355</th>\n",
       "      <td>31/10/2021</td>\n",
       "      <td>14207.0</td>\n",
       "    </tr>\n",
       "  </tbody>\n",
       "</table>\n",
       "<p>356 rows × 2 columns</p>\n",
       "</div>"
      ],
      "text/plain": [
       "           data  publico\n",
       "0    01/06/2006      NaN\n",
       "1    01/06/2014  15136.0\n",
       "2    01/07/2012  34550.0\n",
       "3    01/09/2010  26419.0\n",
       "4    01/09/2018  16589.0\n",
       "..          ...      ...\n",
       "351  31/07/2017  32251.0\n",
       "352  31/08/2008      0.0\n",
       "353  31/08/2013  23745.0\n",
       "354  31/08/2014  12607.0\n",
       "355  31/10/2021  14207.0\n",
       "\n",
       "[356 rows x 2 columns]"
      ]
     },
     "execution_count": 47,
     "metadata": {},
     "output_type": "execute_result"
    }
   ],
   "source": [
    "df.loc[(df.time_mandante =='Grêmio')].groupby('data', as_index=False)['publico'].median()"
   ]
  }
 ],
 "metadata": {
  "kernelspec": {
   "display_name": "Python 3",
   "language": "python",
   "name": "python3"
  },
  "language_info": {
   "codemirror_mode": {
    "name": "ipython",
    "version": 3
   },
   "file_extension": ".py",
   "mimetype": "text/x-python",
   "name": "python",
   "nbconvert_exporter": "python",
   "pygments_lexer": "ipython3",
   "version": "3.8.10"
  }
 },
 "nbformat": 4,
 "nbformat_minor": 2
}
