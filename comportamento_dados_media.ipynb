{
 "cells": [
  {
   "cell_type": "code",
   "execution_count": 5,
   "metadata": {},
   "outputs": [],
   "source": [
    "import pandas as pd\n",
    "import numpy as np\n",
    "import seaborn as sns\n",
    "import plotly.express as px"
   ]
  },
  {
   "cell_type": "markdown",
   "metadata": {},
   "source": [
    "# A ilusão da média "
   ]
  },
  {
   "cell_type": "markdown",
   "metadata": {},
   "source": [
    "Dentro do vocabulário estatístico, a média deve ser o termo mais \"pop\". Não tenho certeza, mas na minha época de escola devo ter sido apresentado a ela antes de aprender a fazer seu cálculo ou entender plenamente o seu conceito (o que admito, veio bem depois).\n",
    "O fato era que para passar de ano, voce tinha que alcançar uma média 6 e quando íamos perguntar a professora, eramos informado que deveriamos nos preocupar em conseguir uma nota igual ou maior a em todos os bimestres. Ou seja, tinhamos ganhado de brinde uma aula sobre lógica:\n",
    "<pre>\n",
    "<br>Se nota >= 6: \n",
    "<br>    Eu: '😄'\n",
    "<br>Senão:\n",
    "<br>    Eu: \"mãe, assina meu boletim?\"\n",
    "<br>    Mãe: \"Por que?\"\n",
    "<br>    Eu: '😢'\n",
    "</pre>\n",
    "\n",
    "Mas aí os anos vão passando e você descobre que a média se calcula somando todos os valores e depois dividindo pela quantidade deles, e aí percebe que dá para bolar algumas estratégias para passar de ano que não envolvem necessariamente tirar 6 ou mais todo bimestre. Por exemplo:\n",
    "* Já que são 4 bimestres, 4 é o numero pelo qual eu divido a soma das minhas notas.\n",
    "* Em geral, os dois primeiros bimestres são os mais fáceis, então em teoria, dá para tirar pelo menos 8.\n",
    "* Somando 16, me faltam 8 pontos para dividir nos dois ultimos bimestres, que são mais dificeis, pois eu preciso somar 24 para ter uma média 6."
   ]
  },
  {
   "cell_type": "code",
   "execution_count": 7,
   "metadata": {},
   "outputs": [
    {
     "data": {
      "text/html": [
       "<div>\n",
       "<style scoped>\n",
       "    .dataframe tbody tr th:only-of-type {\n",
       "        vertical-align: middle;\n",
       "    }\n",
       "\n",
       "    .dataframe tbody tr th {\n",
       "        vertical-align: top;\n",
       "    }\n",
       "\n",
       "    .dataframe thead th {\n",
       "        text-align: right;\n",
       "    }\n",
       "</style>\n",
       "<table border=\"1\" class=\"dataframe\">\n",
       "  <thead>\n",
       "    <tr style=\"text-align: right;\">\n",
       "      <th></th>\n",
       "      <th>aluno 1</th>\n",
       "      <th>aluno 2</th>\n",
       "      <th>aluno 3</th>\n",
       "    </tr>\n",
       "  </thead>\n",
       "  <tbody>\n",
       "    <tr>\n",
       "      <th>b1</th>\n",
       "      <td>8</td>\n",
       "      <td>4.5</td>\n",
       "      <td>8</td>\n",
       "    </tr>\n",
       "    <tr>\n",
       "      <th>b2</th>\n",
       "      <td>8</td>\n",
       "      <td>5.5</td>\n",
       "      <td>7</td>\n",
       "    </tr>\n",
       "    <tr>\n",
       "      <th>b3</th>\n",
       "      <td>4</td>\n",
       "      <td>6.5</td>\n",
       "      <td>5</td>\n",
       "    </tr>\n",
       "    <tr>\n",
       "      <th>b4</th>\n",
       "      <td>4</td>\n",
       "      <td>7.5</td>\n",
       "      <td>4</td>\n",
       "    </tr>\n",
       "  </tbody>\n",
       "</table>\n",
       "</div>"
      ],
      "text/plain": [
       "    aluno 1  aluno 2  aluno 3\n",
       "b1        8      4.5        8\n",
       "b2        8      5.5        7\n",
       "b3        4      6.5        5\n",
       "b4        4      7.5        4"
      ]
     },
     "execution_count": 7,
     "metadata": {},
     "output_type": "execute_result"
    }
   ],
   "source": [
    "notas = {'aluno 1':[8,8,4,4],\n",
    "         'aluno 2':[4.5,5.5,6.5,7.5],\n",
    "         'aluno 3':[8,7,5,4]}\n",
    "periodo = ['b1','b2','b3','b4']\n",
    "df_notas = pd.DataFrame(notas, index=periodo)\n",
    "df_notas\n"
   ]
  },
  {
   "cell_type": "code",
   "execution_count": 8,
   "metadata": {},
   "outputs": [
    {
     "data": {
      "text/html": [
       "<div>\n",
       "<style scoped>\n",
       "    .dataframe tbody tr th:only-of-type {\n",
       "        vertical-align: middle;\n",
       "    }\n",
       "\n",
       "    .dataframe tbody tr th {\n",
       "        vertical-align: top;\n",
       "    }\n",
       "\n",
       "    .dataframe thead th {\n",
       "        text-align: right;\n",
       "    }\n",
       "</style>\n",
       "<table border=\"1\" class=\"dataframe\">\n",
       "  <thead>\n",
       "    <tr style=\"text-align: right;\">\n",
       "      <th></th>\n",
       "      <th>aluno 1</th>\n",
       "      <th>aluno 2</th>\n",
       "      <th>aluno 3</th>\n",
       "    </tr>\n",
       "  </thead>\n",
       "  <tbody>\n",
       "    <tr>\n",
       "      <th>count</th>\n",
       "      <td>4.000000</td>\n",
       "      <td>4.000000</td>\n",
       "      <td>4.000000</td>\n",
       "    </tr>\n",
       "    <tr>\n",
       "      <th>mean</th>\n",
       "      <td>6.000000</td>\n",
       "      <td>6.000000</td>\n",
       "      <td>6.000000</td>\n",
       "    </tr>\n",
       "    <tr>\n",
       "      <th>std</th>\n",
       "      <td>2.309401</td>\n",
       "      <td>1.290994</td>\n",
       "      <td>1.825742</td>\n",
       "    </tr>\n",
       "    <tr>\n",
       "      <th>min</th>\n",
       "      <td>4.000000</td>\n",
       "      <td>4.500000</td>\n",
       "      <td>4.000000</td>\n",
       "    </tr>\n",
       "    <tr>\n",
       "      <th>25%</th>\n",
       "      <td>4.000000</td>\n",
       "      <td>5.250000</td>\n",
       "      <td>4.750000</td>\n",
       "    </tr>\n",
       "    <tr>\n",
       "      <th>50%</th>\n",
       "      <td>6.000000</td>\n",
       "      <td>6.000000</td>\n",
       "      <td>6.000000</td>\n",
       "    </tr>\n",
       "    <tr>\n",
       "      <th>75%</th>\n",
       "      <td>8.000000</td>\n",
       "      <td>6.750000</td>\n",
       "      <td>7.250000</td>\n",
       "    </tr>\n",
       "    <tr>\n",
       "      <th>max</th>\n",
       "      <td>8.000000</td>\n",
       "      <td>7.500000</td>\n",
       "      <td>8.000000</td>\n",
       "    </tr>\n",
       "  </tbody>\n",
       "</table>\n",
       "</div>"
      ],
      "text/plain": [
       "        aluno 1   aluno 2   aluno 3\n",
       "count  4.000000  4.000000  4.000000\n",
       "mean   6.000000  6.000000  6.000000\n",
       "std    2.309401  1.290994  1.825742\n",
       "min    4.000000  4.500000  4.000000\n",
       "25%    4.000000  5.250000  4.750000\n",
       "50%    6.000000  6.000000  6.000000\n",
       "75%    8.000000  6.750000  7.250000\n",
       "max    8.000000  7.500000  8.000000"
      ]
     },
     "execution_count": 8,
     "metadata": {},
     "output_type": "execute_result"
    }
   ],
   "source": [
    "df_notas.describe()"
   ]
  }
 ],
 "metadata": {
  "kernelspec": {
   "display_name": "Python 3",
   "language": "python",
   "name": "python3"
  },
  "language_info": {
   "codemirror_mode": {
    "name": "ipython",
    "version": 3
   },
   "file_extension": ".py",
   "mimetype": "text/x-python",
   "name": "python",
   "nbconvert_exporter": "python",
   "pygments_lexer": "ipython3",
   "version": "3.8.10"
  }
 },
 "nbformat": 4,
 "nbformat_minor": 2
}
